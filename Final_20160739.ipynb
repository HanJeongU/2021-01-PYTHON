{
 "cells": [
  {
   "cell_type": "markdown",
   "metadata": {},
   "source": [
    "1. glob을 이용하여 5개 엑셀 파일을 통합하여 station_raw 데이터프레임 생성"
   ]
  },
  {
   "cell_type": "code",
   "execution_count": 174,
   "metadata": {},
   "outputs": [],
   "source": [
    "import pandas as pd\n",
    "from glob import glob"
   ]
  },
  {
   "cell_type": "code",
   "execution_count": 175,
   "metadata": {},
   "outputs": [],
   "source": [
    "import os\n",
    "os.chdir(r'c:\\pda')"
   ]
  },
  {
   "cell_type": "code",
   "execution_count": 176,
   "metadata": {},
   "outputs": [
    {
     "data": {
      "text/plain": [
       "['./pda_final\\\\지역_위치별(주유소) (1).xlsx',\n",
       " './pda_final\\\\지역_위치별(주유소) (2).xlsx',\n",
       " './pda_final\\\\지역_위치별(주유소) (3).xlsx',\n",
       " './pda_final\\\\지역_위치별(주유소) (4).xlsx',\n",
       " './pda_final\\\\지역_위치별(주유소).xlsx']"
      ]
     },
     "execution_count": 176,
     "metadata": {},
     "output_type": "execute_result"
    }
   ],
   "source": [
    "glob('./pda_final/지역*.xlsx')"
   ]
  },
  {
   "cell_type": "code",
   "execution_count": 177,
   "metadata": {},
   "outputs": [
    {
     "data": {
      "text/plain": [
       "['./pda_final\\\\지역_위치별(주유소) (1).xlsx',\n",
       " './pda_final\\\\지역_위치별(주유소) (2).xlsx',\n",
       " './pda_final\\\\지역_위치별(주유소) (3).xlsx',\n",
       " './pda_final\\\\지역_위치별(주유소) (4).xlsx',\n",
       " './pda_final\\\\지역_위치별(주유소).xlsx']"
      ]
     },
     "execution_count": 177,
     "metadata": {},
     "output_type": "execute_result"
    }
   ],
   "source": [
    "stations_files=glob('./pda_final/지역*.xlsx')\n",
    "stations_files"
   ]
  },
  {
   "cell_type": "code",
   "execution_count": 178,
   "metadata": {},
   "outputs": [],
   "source": [
    "tmp_raw=[]\n",
    "\n",
    "for file_name in stations_files:\n",
    "    tmp=pd.read_excel(file_name)\n",
    "    tmp_raw.append(tmp)\n",
    "    \n",
    "station_raw =pd.concat(tmp_raw)    "
   ]
  },
  {
   "cell_type": "code",
   "execution_count": 179,
   "metadata": {},
   "outputs": [
    {
     "name": "stdout",
     "output_type": "stream",
     "text": [
      "<class 'pandas.core.frame.DataFrame'>\n",
      "Int64Index: 232 entries, 0 to 58\n",
      "Data columns (total 13 columns):\n",
      " #   Column  Non-Null Count  Dtype  \n",
      "---  ------  --------------  -----  \n",
      " 0   지역      232 non-null    object \n",
      " 1   상호      232 non-null    object \n",
      " 2   주소      232 non-null    object \n",
      " 3   상표      232 non-null    object \n",
      " 4   전화번호    232 non-null    object \n",
      " 5   셀프여부    232 non-null    object \n",
      " 6   고급휘발유   232 non-null    object \n",
      " 7   휘발유     232 non-null    object \n",
      " 8   경유      232 non-null    object \n",
      " 9   실내등유    232 non-null    object \n",
      " 10  구       232 non-null    object \n",
      " 11  lat     232 non-null    float64\n",
      " 12  lng     232 non-null    float64\n",
      "dtypes: float64(2), object(11)\n",
      "memory usage: 25.4+ KB\n"
     ]
    }
   ],
   "source": [
    "station_raw.info()"
   ]
  },
  {
   "cell_type": "code",
   "execution_count": 180,
   "metadata": {},
   "outputs": [
    {
     "data": {
      "text/html": [
       "<div>\n",
       "<style scoped>\n",
       "    .dataframe tbody tr th:only-of-type {\n",
       "        vertical-align: middle;\n",
       "    }\n",
       "\n",
       "    .dataframe tbody tr th {\n",
       "        vertical-align: top;\n",
       "    }\n",
       "\n",
       "    .dataframe thead th {\n",
       "        text-align: right;\n",
       "    }\n",
       "</style>\n",
       "<table border=\"1\" class=\"dataframe\">\n",
       "  <thead>\n",
       "    <tr style=\"text-align: right;\">\n",
       "      <th></th>\n",
       "      <th>지역</th>\n",
       "      <th>상호</th>\n",
       "      <th>주소</th>\n",
       "      <th>상표</th>\n",
       "      <th>전화번호</th>\n",
       "      <th>셀프여부</th>\n",
       "      <th>고급휘발유</th>\n",
       "      <th>휘발유</th>\n",
       "      <th>경유</th>\n",
       "      <th>실내등유</th>\n",
       "      <th>구</th>\n",
       "      <th>lat</th>\n",
       "      <th>lng</th>\n",
       "    </tr>\n",
       "  </thead>\n",
       "  <tbody>\n",
       "    <tr>\n",
       "      <th>0</th>\n",
       "      <td>대전광역시</td>\n",
       "      <td>현암주유소</td>\n",
       "      <td>대전 동구 동서대로 1494 (삼성동)</td>\n",
       "      <td>GS칼텍스</td>\n",
       "      <td>042-634-3151</td>\n",
       "      <td>Y</td>\n",
       "      <td>-</td>\n",
       "      <td>1533</td>\n",
       "      <td>1333</td>\n",
       "      <td>-</td>\n",
       "      <td>동구</td>\n",
       "      <td>36.339256</td>\n",
       "      <td>127.420034</td>\n",
       "    </tr>\n",
       "    <tr>\n",
       "      <th>1</th>\n",
       "      <td>대전광역시</td>\n",
       "      <td>용전셀프주유소</td>\n",
       "      <td>대전 동구 동서대로 1627(홍도동)</td>\n",
       "      <td>현대오일뱅크</td>\n",
       "      <td>042-637-8838</td>\n",
       "      <td>Y</td>\n",
       "      <td>1779</td>\n",
       "      <td>1537</td>\n",
       "      <td>1337</td>\n",
       "      <td>-</td>\n",
       "      <td>동구</td>\n",
       "      <td>36.347030</td>\n",
       "      <td>127.430743</td>\n",
       "    </tr>\n",
       "    <tr>\n",
       "      <th>2</th>\n",
       "      <td>대전광역시</td>\n",
       "      <td>참좋은주유소</td>\n",
       "      <td>대전 동구 계족로 501 (용전동)</td>\n",
       "      <td>SK에너지</td>\n",
       "      <td>042-625-9300</td>\n",
       "      <td>Y</td>\n",
       "      <td>-</td>\n",
       "      <td>1537</td>\n",
       "      <td>1337</td>\n",
       "      <td>-</td>\n",
       "      <td>동구</td>\n",
       "      <td>36.356528</td>\n",
       "      <td>127.432434</td>\n",
       "    </tr>\n",
       "    <tr>\n",
       "      <th>3</th>\n",
       "      <td>대전광역시</td>\n",
       "      <td>유원주유소</td>\n",
       "      <td>대전 동구 계족로 513 (용전동)</td>\n",
       "      <td>GS칼텍스</td>\n",
       "      <td>042-672-3613</td>\n",
       "      <td>Y</td>\n",
       "      <td>-</td>\n",
       "      <td>1539</td>\n",
       "      <td>1339</td>\n",
       "      <td>990</td>\n",
       "      <td>동구</td>\n",
       "      <td>36.357459</td>\n",
       "      <td>127.432419</td>\n",
       "    </tr>\n",
       "    <tr>\n",
       "      <th>4</th>\n",
       "      <td>대전광역시</td>\n",
       "      <td>(주)하늘셀프주유소</td>\n",
       "      <td>대전 동구 대전로 549</td>\n",
       "      <td>SK에너지</td>\n",
       "      <td>042-283-5151</td>\n",
       "      <td>Y</td>\n",
       "      <td>-</td>\n",
       "      <td>1543</td>\n",
       "      <td>1333</td>\n",
       "      <td>-</td>\n",
       "      <td>동구</td>\n",
       "      <td>36.311581</td>\n",
       "      <td>127.444609</td>\n",
       "    </tr>\n",
       "  </tbody>\n",
       "</table>\n",
       "</div>"
      ],
      "text/plain": [
       "      지역          상호                     주소      상표          전화번호 셀프여부 고급휘발유  \\\n",
       "0  대전광역시       현암주유소  대전 동구 동서대로 1494 (삼성동)   GS칼텍스  042-634-3151    Y     -   \n",
       "1  대전광역시     용전셀프주유소   대전 동구 동서대로 1627(홍도동)  현대오일뱅크  042-637-8838    Y  1779   \n",
       "2  대전광역시      참좋은주유소    대전 동구 계족로 501 (용전동)   SK에너지  042-625-9300    Y     -   \n",
       "3  대전광역시       유원주유소    대전 동구 계족로 513 (용전동)   GS칼텍스  042-672-3613    Y     -   \n",
       "4  대전광역시  (주)하늘셀프주유소          대전 동구 대전로 549   SK에너지  042-283-5151    Y     -   \n",
       "\n",
       "    휘발유    경유 실내등유   구        lat         lng  \n",
       "0  1533  1333    -  동구  36.339256  127.420034  \n",
       "1  1537  1337    -  동구  36.347030  127.430743  \n",
       "2  1537  1337    -  동구  36.356528  127.432434  \n",
       "3  1539  1339  990  동구  36.357459  127.432419  \n",
       "4  1543  1333    -  동구  36.311581  127.444609  "
      ]
     },
     "execution_count": 180,
     "metadata": {},
     "output_type": "execute_result"
    }
   ],
   "source": [
    "station_raw.head()"
   ]
  },
  {
   "cell_type": "markdown",
   "metadata": {},
   "source": [
    "2.  station_raw 데이터프레임의 필드 중 상호, 주소, 휘발유, 셀프여부, 상표, lat, lng 필드만을 선택하여 stations 데이터프레임 생성"
   ]
  },
  {
   "cell_type": "code",
   "execution_count": 181,
   "metadata": {},
   "outputs": [
    {
     "data": {
      "text/html": [
       "<div>\n",
       "<style scoped>\n",
       "    .dataframe tbody tr th:only-of-type {\n",
       "        vertical-align: middle;\n",
       "    }\n",
       "\n",
       "    .dataframe tbody tr th {\n",
       "        vertical-align: top;\n",
       "    }\n",
       "\n",
       "    .dataframe thead th {\n",
       "        text-align: right;\n",
       "    }\n",
       "</style>\n",
       "<table border=\"1\" class=\"dataframe\">\n",
       "  <thead>\n",
       "    <tr style=\"text-align: right;\">\n",
       "      <th></th>\n",
       "      <th>Oil_store</th>\n",
       "      <th>주소</th>\n",
       "      <th>가격</th>\n",
       "      <th>셀프</th>\n",
       "      <th>상표</th>\n",
       "      <th>lat</th>\n",
       "      <th>lng</th>\n",
       "    </tr>\n",
       "  </thead>\n",
       "  <tbody>\n",
       "    <tr>\n",
       "      <th>0</th>\n",
       "      <td>현암주유소</td>\n",
       "      <td>대전 동구 동서대로 1494 (삼성동)</td>\n",
       "      <td>1533</td>\n",
       "      <td>Y</td>\n",
       "      <td>GS칼텍스</td>\n",
       "      <td>36.339256</td>\n",
       "      <td>127.420034</td>\n",
       "    </tr>\n",
       "    <tr>\n",
       "      <th>1</th>\n",
       "      <td>용전셀프주유소</td>\n",
       "      <td>대전 동구 동서대로 1627(홍도동)</td>\n",
       "      <td>1537</td>\n",
       "      <td>Y</td>\n",
       "      <td>현대오일뱅크</td>\n",
       "      <td>36.347030</td>\n",
       "      <td>127.430743</td>\n",
       "    </tr>\n",
       "    <tr>\n",
       "      <th>2</th>\n",
       "      <td>참좋은주유소</td>\n",
       "      <td>대전 동구 계족로 501 (용전동)</td>\n",
       "      <td>1537</td>\n",
       "      <td>Y</td>\n",
       "      <td>SK에너지</td>\n",
       "      <td>36.356528</td>\n",
       "      <td>127.432434</td>\n",
       "    </tr>\n",
       "    <tr>\n",
       "      <th>3</th>\n",
       "      <td>유원주유소</td>\n",
       "      <td>대전 동구 계족로 513 (용전동)</td>\n",
       "      <td>1539</td>\n",
       "      <td>Y</td>\n",
       "      <td>GS칼텍스</td>\n",
       "      <td>36.357459</td>\n",
       "      <td>127.432419</td>\n",
       "    </tr>\n",
       "    <tr>\n",
       "      <th>4</th>\n",
       "      <td>(주)하늘셀프주유소</td>\n",
       "      <td>대전 동구 대전로 549</td>\n",
       "      <td>1543</td>\n",
       "      <td>Y</td>\n",
       "      <td>SK에너지</td>\n",
       "      <td>36.311581</td>\n",
       "      <td>127.444609</td>\n",
       "    </tr>\n",
       "    <tr>\n",
       "      <th>...</th>\n",
       "      <td>...</td>\n",
       "      <td>...</td>\n",
       "      <td>...</td>\n",
       "      <td>...</td>\n",
       "      <td>...</td>\n",
       "      <td>...</td>\n",
       "      <td>...</td>\n",
       "    </tr>\n",
       "    <tr>\n",
       "      <th>54</th>\n",
       "      <td>장터주유소</td>\n",
       "      <td>대전 대덕구 아리랑로 152 (읍내동)</td>\n",
       "      <td>1599</td>\n",
       "      <td>N</td>\n",
       "      <td>GS칼텍스</td>\n",
       "      <td>36.372897</td>\n",
       "      <td>127.420693</td>\n",
       "    </tr>\n",
       "    <tr>\n",
       "      <th>55</th>\n",
       "      <td>비전운수(주)산업단지주유소</td>\n",
       "      <td>대전 대덕구 산업단지로 107</td>\n",
       "      <td>1619</td>\n",
       "      <td>N</td>\n",
       "      <td>GS칼텍스</td>\n",
       "      <td>36.429782</td>\n",
       "      <td>127.409735</td>\n",
       "    </tr>\n",
       "    <tr>\n",
       "      <th>56</th>\n",
       "      <td>대덕산업단지관리공단주유사업소</td>\n",
       "      <td>대전 대덕구 문평동로 2 (문평동)</td>\n",
       "      <td>1628</td>\n",
       "      <td>N</td>\n",
       "      <td>현대오일뱅크</td>\n",
       "      <td>36.445414</td>\n",
       "      <td>127.404310</td>\n",
       "    </tr>\n",
       "    <tr>\n",
       "      <th>57</th>\n",
       "      <td>맘모스주유소</td>\n",
       "      <td>대전 대덕구 동서대로 1756 (비래동)</td>\n",
       "      <td>1756</td>\n",
       "      <td>N</td>\n",
       "      <td>SK에너지</td>\n",
       "      <td>36.352336</td>\n",
       "      <td>127.443365</td>\n",
       "    </tr>\n",
       "    <tr>\n",
       "      <th>58</th>\n",
       "      <td>한솔주유소</td>\n",
       "      <td>대전 대덕구 한밭대로 1036 (오정동)</td>\n",
       "      <td>1974</td>\n",
       "      <td>N</td>\n",
       "      <td>GS칼텍스</td>\n",
       "      <td>36.357987</td>\n",
       "      <td>127.413716</td>\n",
       "    </tr>\n",
       "  </tbody>\n",
       "</table>\n",
       "<p>232 rows × 7 columns</p>\n",
       "</div>"
      ],
      "text/plain": [
       "          Oil_store                      주소    가격 셀프      상표        lat  \\\n",
       "0             현암주유소   대전 동구 동서대로 1494 (삼성동)  1533  Y   GS칼텍스  36.339256   \n",
       "1           용전셀프주유소    대전 동구 동서대로 1627(홍도동)  1537  Y  현대오일뱅크  36.347030   \n",
       "2            참좋은주유소     대전 동구 계족로 501 (용전동)  1537  Y   SK에너지  36.356528   \n",
       "3             유원주유소     대전 동구 계족로 513 (용전동)  1539  Y   GS칼텍스  36.357459   \n",
       "4        (주)하늘셀프주유소           대전 동구 대전로 549  1543  Y   SK에너지  36.311581   \n",
       "..              ...                     ...   ... ..     ...        ...   \n",
       "54            장터주유소   대전 대덕구 아리랑로 152 (읍내동)  1599  N   GS칼텍스  36.372897   \n",
       "55   비전운수(주)산업단지주유소        대전 대덕구 산업단지로 107  1619  N   GS칼텍스  36.429782   \n",
       "56  대덕산업단지관리공단주유사업소     대전 대덕구 문평동로 2 (문평동)  1628  N  현대오일뱅크  36.445414   \n",
       "57           맘모스주유소  대전 대덕구 동서대로 1756 (비래동)  1756  N   SK에너지  36.352336   \n",
       "58            한솔주유소  대전 대덕구 한밭대로 1036 (오정동)  1974  N   GS칼텍스  36.357987   \n",
       "\n",
       "           lng  \n",
       "0   127.420034  \n",
       "1   127.430743  \n",
       "2   127.432434  \n",
       "3   127.432419  \n",
       "4   127.444609  \n",
       "..         ...  \n",
       "54  127.420693  \n",
       "55  127.409735  \n",
       "56  127.404310  \n",
       "57  127.443365  \n",
       "58  127.413716  \n",
       "\n",
       "[232 rows x 7 columns]"
      ]
     },
     "execution_count": 181,
     "metadata": {},
     "output_type": "execute_result"
    }
   ],
   "source": [
    "stations=pd.DataFrame({'Oil_store':station_raw['상호'],\n",
    "                      '주소':station_raw['주소'],\n",
    "                       '가격':station_raw['휘발유'],\n",
    "                       '셀프':station_raw['셀프여부'],\n",
    "                       '상표':station_raw['상표'],\n",
    "                      'lat':station_raw['lat'],\n",
    "                      'lng':station_raw['lng']})\n",
    "stations"
   ]
  },
  {
   "cell_type": "code",
   "execution_count": 182,
   "metadata": {},
   "outputs": [],
   "source": [
    "stations['구']=[eachAddress.split()[1] for eachAddress in stations['주소']]"
   ]
  },
  {
   "cell_type": "code",
   "execution_count": 183,
   "metadata": {},
   "outputs": [
    {
     "data": {
      "text/html": [
       "<div>\n",
       "<style scoped>\n",
       "    .dataframe tbody tr th:only-of-type {\n",
       "        vertical-align: middle;\n",
       "    }\n",
       "\n",
       "    .dataframe tbody tr th {\n",
       "        vertical-align: top;\n",
       "    }\n",
       "\n",
       "    .dataframe thead th {\n",
       "        text-align: right;\n",
       "    }\n",
       "</style>\n",
       "<table border=\"1\" class=\"dataframe\">\n",
       "  <thead>\n",
       "    <tr style=\"text-align: right;\">\n",
       "      <th></th>\n",
       "      <th>Oil_store</th>\n",
       "      <th>주소</th>\n",
       "      <th>가격</th>\n",
       "      <th>셀프</th>\n",
       "      <th>상표</th>\n",
       "      <th>lat</th>\n",
       "      <th>lng</th>\n",
       "      <th>구</th>\n",
       "    </tr>\n",
       "  </thead>\n",
       "  <tbody>\n",
       "    <tr>\n",
       "      <th>0</th>\n",
       "      <td>현암주유소</td>\n",
       "      <td>대전 동구 동서대로 1494 (삼성동)</td>\n",
       "      <td>1533</td>\n",
       "      <td>Y</td>\n",
       "      <td>GS칼텍스</td>\n",
       "      <td>36.339256</td>\n",
       "      <td>127.420034</td>\n",
       "      <td>동구</td>\n",
       "    </tr>\n",
       "    <tr>\n",
       "      <th>1</th>\n",
       "      <td>용전셀프주유소</td>\n",
       "      <td>대전 동구 동서대로 1627(홍도동)</td>\n",
       "      <td>1537</td>\n",
       "      <td>Y</td>\n",
       "      <td>현대오일뱅크</td>\n",
       "      <td>36.347030</td>\n",
       "      <td>127.430743</td>\n",
       "      <td>동구</td>\n",
       "    </tr>\n",
       "    <tr>\n",
       "      <th>2</th>\n",
       "      <td>참좋은주유소</td>\n",
       "      <td>대전 동구 계족로 501 (용전동)</td>\n",
       "      <td>1537</td>\n",
       "      <td>Y</td>\n",
       "      <td>SK에너지</td>\n",
       "      <td>36.356528</td>\n",
       "      <td>127.432434</td>\n",
       "      <td>동구</td>\n",
       "    </tr>\n",
       "    <tr>\n",
       "      <th>3</th>\n",
       "      <td>유원주유소</td>\n",
       "      <td>대전 동구 계족로 513 (용전동)</td>\n",
       "      <td>1539</td>\n",
       "      <td>Y</td>\n",
       "      <td>GS칼텍스</td>\n",
       "      <td>36.357459</td>\n",
       "      <td>127.432419</td>\n",
       "      <td>동구</td>\n",
       "    </tr>\n",
       "    <tr>\n",
       "      <th>4</th>\n",
       "      <td>(주)하늘셀프주유소</td>\n",
       "      <td>대전 동구 대전로 549</td>\n",
       "      <td>1543</td>\n",
       "      <td>Y</td>\n",
       "      <td>SK에너지</td>\n",
       "      <td>36.311581</td>\n",
       "      <td>127.444609</td>\n",
       "      <td>동구</td>\n",
       "    </tr>\n",
       "    <tr>\n",
       "      <th>...</th>\n",
       "      <td>...</td>\n",
       "      <td>...</td>\n",
       "      <td>...</td>\n",
       "      <td>...</td>\n",
       "      <td>...</td>\n",
       "      <td>...</td>\n",
       "      <td>...</td>\n",
       "      <td>...</td>\n",
       "    </tr>\n",
       "    <tr>\n",
       "      <th>54</th>\n",
       "      <td>장터주유소</td>\n",
       "      <td>대전 대덕구 아리랑로 152 (읍내동)</td>\n",
       "      <td>1599</td>\n",
       "      <td>N</td>\n",
       "      <td>GS칼텍스</td>\n",
       "      <td>36.372897</td>\n",
       "      <td>127.420693</td>\n",
       "      <td>대덕구</td>\n",
       "    </tr>\n",
       "    <tr>\n",
       "      <th>55</th>\n",
       "      <td>비전운수(주)산업단지주유소</td>\n",
       "      <td>대전 대덕구 산업단지로 107</td>\n",
       "      <td>1619</td>\n",
       "      <td>N</td>\n",
       "      <td>GS칼텍스</td>\n",
       "      <td>36.429782</td>\n",
       "      <td>127.409735</td>\n",
       "      <td>대덕구</td>\n",
       "    </tr>\n",
       "    <tr>\n",
       "      <th>56</th>\n",
       "      <td>대덕산업단지관리공단주유사업소</td>\n",
       "      <td>대전 대덕구 문평동로 2 (문평동)</td>\n",
       "      <td>1628</td>\n",
       "      <td>N</td>\n",
       "      <td>현대오일뱅크</td>\n",
       "      <td>36.445414</td>\n",
       "      <td>127.404310</td>\n",
       "      <td>대덕구</td>\n",
       "    </tr>\n",
       "    <tr>\n",
       "      <th>57</th>\n",
       "      <td>맘모스주유소</td>\n",
       "      <td>대전 대덕구 동서대로 1756 (비래동)</td>\n",
       "      <td>1756</td>\n",
       "      <td>N</td>\n",
       "      <td>SK에너지</td>\n",
       "      <td>36.352336</td>\n",
       "      <td>127.443365</td>\n",
       "      <td>대덕구</td>\n",
       "    </tr>\n",
       "    <tr>\n",
       "      <th>58</th>\n",
       "      <td>한솔주유소</td>\n",
       "      <td>대전 대덕구 한밭대로 1036 (오정동)</td>\n",
       "      <td>1974</td>\n",
       "      <td>N</td>\n",
       "      <td>GS칼텍스</td>\n",
       "      <td>36.357987</td>\n",
       "      <td>127.413716</td>\n",
       "      <td>대덕구</td>\n",
       "    </tr>\n",
       "  </tbody>\n",
       "</table>\n",
       "<p>232 rows × 8 columns</p>\n",
       "</div>"
      ],
      "text/plain": [
       "          Oil_store                      주소    가격 셀프      상표        lat  \\\n",
       "0             현암주유소   대전 동구 동서대로 1494 (삼성동)  1533  Y   GS칼텍스  36.339256   \n",
       "1           용전셀프주유소    대전 동구 동서대로 1627(홍도동)  1537  Y  현대오일뱅크  36.347030   \n",
       "2            참좋은주유소     대전 동구 계족로 501 (용전동)  1537  Y   SK에너지  36.356528   \n",
       "3             유원주유소     대전 동구 계족로 513 (용전동)  1539  Y   GS칼텍스  36.357459   \n",
       "4        (주)하늘셀프주유소           대전 동구 대전로 549  1543  Y   SK에너지  36.311581   \n",
       "..              ...                     ...   ... ..     ...        ...   \n",
       "54            장터주유소   대전 대덕구 아리랑로 152 (읍내동)  1599  N   GS칼텍스  36.372897   \n",
       "55   비전운수(주)산업단지주유소        대전 대덕구 산업단지로 107  1619  N   GS칼텍스  36.429782   \n",
       "56  대덕산업단지관리공단주유사업소     대전 대덕구 문평동로 2 (문평동)  1628  N  현대오일뱅크  36.445414   \n",
       "57           맘모스주유소  대전 대덕구 동서대로 1756 (비래동)  1756  N   SK에너지  36.352336   \n",
       "58            한솔주유소  대전 대덕구 한밭대로 1036 (오정동)  1974  N   GS칼텍스  36.357987   \n",
       "\n",
       "           lng    구  \n",
       "0   127.420034   동구  \n",
       "1   127.430743   동구  \n",
       "2   127.432434   동구  \n",
       "3   127.432419   동구  \n",
       "4   127.444609   동구  \n",
       "..         ...  ...  \n",
       "54  127.420693  대덕구  \n",
       "55  127.409735  대덕구  \n",
       "56  127.404310  대덕구  \n",
       "57  127.443365  대덕구  \n",
       "58  127.413716  대덕구  \n",
       "\n",
       "[232 rows x 8 columns]"
      ]
     },
     "execution_count": 183,
     "metadata": {},
     "output_type": "execute_result"
    }
   ],
   "source": [
    "stations"
   ]
  },
  {
   "cell_type": "markdown",
   "metadata": {},
   "source": [
    "3. 데이터 전처리\n",
    "  3.1. stations 데이터프레임 주소 컬럼에서 대전시 소재' 구' 이름이 잘못된 데이터 찾아 오류 수정\n"
   ]
  },
  {
   "cell_type": "code",
   "execution_count": 184,
   "metadata": {},
   "outputs": [
    {
     "data": {
      "text/plain": [
       "array(['동구', '서구', '유성구', '중구', '광역시', '대덕구'], dtype=object)"
      ]
     },
     "execution_count": 184,
     "metadata": {},
     "output_type": "execute_result"
    }
   ],
   "source": [
    "stations['구'].unique()"
   ]
  },
  {
   "cell_type": "code",
   "execution_count": 185,
   "metadata": {},
   "outputs": [
    {
     "data": {
      "text/html": [
       "<div>\n",
       "<style scoped>\n",
       "    .dataframe tbody tr th:only-of-type {\n",
       "        vertical-align: middle;\n",
       "    }\n",
       "\n",
       "    .dataframe tbody tr th {\n",
       "        vertical-align: top;\n",
       "    }\n",
       "\n",
       "    .dataframe thead th {\n",
       "        text-align: right;\n",
       "    }\n",
       "</style>\n",
       "<table border=\"1\" class=\"dataframe\">\n",
       "  <thead>\n",
       "    <tr style=\"text-align: right;\">\n",
       "      <th></th>\n",
       "      <th>Oil_store</th>\n",
       "      <th>주소</th>\n",
       "      <th>가격</th>\n",
       "      <th>셀프</th>\n",
       "      <th>상표</th>\n",
       "      <th>lat</th>\n",
       "      <th>lng</th>\n",
       "      <th>구</th>\n",
       "    </tr>\n",
       "  </thead>\n",
       "  <tbody>\n",
       "    <tr>\n",
       "      <th>32</th>\n",
       "      <td>도서관주유소</td>\n",
       "      <td>대전 광역시 중구 보문산로 353</td>\n",
       "      <td>1565</td>\n",
       "      <td>Y</td>\n",
       "      <td>현대오일뱅크</td>\n",
       "      <td>36.313669</td>\n",
       "      <td>127.415378</td>\n",
       "      <td>광역시</td>\n",
       "    </tr>\n",
       "  </tbody>\n",
       "</table>\n",
       "</div>"
      ],
      "text/plain": [
       "   Oil_store                  주소    가격 셀프      상표        lat         lng    구\n",
       "32    도서관주유소  대전 광역시 중구 보문산로 353  1565  Y  현대오일뱅크  36.313669  127.415378  광역시"
      ]
     },
     "execution_count": 185,
     "metadata": {},
     "output_type": "execute_result"
    }
   ],
   "source": [
    "stations[stations['구']=='광역시']"
   ]
  },
  {
   "cell_type": "code",
   "execution_count": 186,
   "metadata": {},
   "outputs": [],
   "source": [
    "stations.loc[stations['구']=='광역시', '구']='중구'"
   ]
  },
  {
   "cell_type": "markdown",
   "metadata": {},
   "source": [
    "  3.2. 가격이 - 로 되어 있는 오류 데이터 찾아 삭제"
   ]
  },
  {
   "cell_type": "code",
   "execution_count": 187,
   "metadata": {},
   "outputs": [
    {
     "data": {
      "text/html": [
       "<div>\n",
       "<style scoped>\n",
       "    .dataframe tbody tr th:only-of-type {\n",
       "        vertical-align: middle;\n",
       "    }\n",
       "\n",
       "    .dataframe tbody tr th {\n",
       "        vertical-align: top;\n",
       "    }\n",
       "\n",
       "    .dataframe thead th {\n",
       "        text-align: right;\n",
       "    }\n",
       "</style>\n",
       "<table border=\"1\" class=\"dataframe\">\n",
       "  <thead>\n",
       "    <tr style=\"text-align: right;\">\n",
       "      <th></th>\n",
       "      <th>Oil_store</th>\n",
       "      <th>주소</th>\n",
       "      <th>가격</th>\n",
       "      <th>셀프</th>\n",
       "      <th>상표</th>\n",
       "      <th>lat</th>\n",
       "      <th>lng</th>\n",
       "      <th>구</th>\n",
       "    </tr>\n",
       "  </thead>\n",
       "  <tbody>\n",
       "    <tr>\n",
       "      <th>31</th>\n",
       "      <td>태양주유소</td>\n",
       "      <td>대전 동구 한밭대로 1258 (용전동)</td>\n",
       "      <td>-</td>\n",
       "      <td>Y</td>\n",
       "      <td>SK에너지</td>\n",
       "      <td>36.355480</td>\n",
       "      <td>127.436165</td>\n",
       "      <td>동구</td>\n",
       "    </tr>\n",
       "    <tr>\n",
       "      <th>43</th>\n",
       "      <td>중도석유(주) 도마동주유소</td>\n",
       "      <td>대전 서구 계백로 1371 (도마동)</td>\n",
       "      <td>-</td>\n",
       "      <td>Y</td>\n",
       "      <td>GS칼텍스</td>\n",
       "      <td>36.310892</td>\n",
       "      <td>127.374258</td>\n",
       "      <td>서구</td>\n",
       "    </tr>\n",
       "    <tr>\n",
       "      <th>57</th>\n",
       "      <td>계명주유소</td>\n",
       "      <td>대전 유성구 현충원로 492</td>\n",
       "      <td>-</td>\n",
       "      <td>N</td>\n",
       "      <td>S-OIL</td>\n",
       "      <td>36.359243</td>\n",
       "      <td>127.325608</td>\n",
       "      <td>유성구</td>\n",
       "    </tr>\n",
       "    <tr>\n",
       "      <th>58</th>\n",
       "      <td>(주)상아에너지</td>\n",
       "      <td>대전 유성구 계백로 476 (방동)</td>\n",
       "      <td>-</td>\n",
       "      <td>N</td>\n",
       "      <td>GS칼텍스</td>\n",
       "      <td>36.276060</td>\n",
       "      <td>127.293618</td>\n",
       "      <td>유성구</td>\n",
       "    </tr>\n",
       "    <tr>\n",
       "      <th>37</th>\n",
       "      <td>대웅에너지</td>\n",
       "      <td>대전 중구 대종로 557 (선화동)</td>\n",
       "      <td>-</td>\n",
       "      <td>Y</td>\n",
       "      <td>현대오일뱅크</td>\n",
       "      <td>36.332315</td>\n",
       "      <td>127.420792</td>\n",
       "      <td>중구</td>\n",
       "    </tr>\n",
       "  </tbody>\n",
       "</table>\n",
       "</div>"
      ],
      "text/plain": [
       "         Oil_store                     주소 가격 셀프      상표        lat  \\\n",
       "31           태양주유소  대전 동구 한밭대로 1258 (용전동)  -  Y   SK에너지  36.355480   \n",
       "43  중도석유(주) 도마동주유소   대전 서구 계백로 1371 (도마동)  -  Y   GS칼텍스  36.310892   \n",
       "57           계명주유소        대전 유성구 현충원로 492  -  N   S-OIL  36.359243   \n",
       "58        (주)상아에너지    대전 유성구 계백로 476 (방동)  -  N   GS칼텍스  36.276060   \n",
       "37           대웅에너지    대전 중구 대종로 557 (선화동)  -  Y  현대오일뱅크  36.332315   \n",
       "\n",
       "           lng    구  \n",
       "31  127.436165   동구  \n",
       "43  127.374258   서구  \n",
       "57  127.325608  유성구  \n",
       "58  127.293618  유성구  \n",
       "37  127.420792   중구  "
      ]
     },
     "execution_count": 187,
     "metadata": {},
     "output_type": "execute_result"
    }
   ],
   "source": [
    "stations[stations['가격']=='-']"
   ]
  },
  {
   "cell_type": "code",
   "execution_count": 188,
   "metadata": {},
   "outputs": [],
   "source": [
    "stations=stations[stations['가격']!='-']\n"
   ]
  },
  {
   "cell_type": "code",
   "execution_count": 189,
   "metadata": {},
   "outputs": [
    {
     "name": "stderr",
     "output_type": "stream",
     "text": [
      "<ipython-input-189-f8f24e701327>:1: SettingWithCopyWarning: \n",
      "A value is trying to be set on a copy of a slice from a DataFrame.\n",
      "Try using .loc[row_indexer,col_indexer] = value instead\n",
      "\n",
      "See the caveats in the documentation: https://pandas.pydata.org/pandas-docs/stable/user_guide/indexing.html#returning-a-view-versus-a-copy\n",
      "  stations['가격'] =[float(value) for value in stations['가격']]\n"
     ]
    }
   ],
   "source": [
    "stations['가격'] =[float(value) for value in stations['가격']]"
   ]
  },
  {
   "cell_type": "code",
   "execution_count": 190,
   "metadata": {},
   "outputs": [
    {
     "name": "stdout",
     "output_type": "stream",
     "text": [
      "<class 'pandas.core.frame.DataFrame'>\n",
      "Int64Index: 227 entries, 0 to 58\n",
      "Data columns (total 8 columns):\n",
      " #   Column     Non-Null Count  Dtype  \n",
      "---  ------     --------------  -----  \n",
      " 0   Oil_store  227 non-null    object \n",
      " 1   주소         227 non-null    object \n",
      " 2   가격         227 non-null    float64\n",
      " 3   셀프         227 non-null    object \n",
      " 4   상표         227 non-null    object \n",
      " 5   lat        227 non-null    float64\n",
      " 6   lng        227 non-null    float64\n",
      " 7   구          227 non-null    object \n",
      "dtypes: float64(3), object(5)\n",
      "memory usage: 16.0+ KB\n"
     ]
    }
   ],
   "source": [
    "stations.info()"
   ]
  },
  {
   "cell_type": "code",
   "execution_count": 191,
   "metadata": {},
   "outputs": [],
   "source": [
    "stations.reset_index(inplace=True)\n",
    "del stations['index']"
   ]
  },
  {
   "cell_type": "code",
   "execution_count": 192,
   "metadata": {},
   "outputs": [
    {
     "name": "stdout",
     "output_type": "stream",
     "text": [
      "<class 'pandas.core.frame.DataFrame'>\n",
      "RangeIndex: 227 entries, 0 to 226\n",
      "Data columns (total 8 columns):\n",
      " #   Column     Non-Null Count  Dtype  \n",
      "---  ------     --------------  -----  \n",
      " 0   Oil_store  227 non-null    object \n",
      " 1   주소         227 non-null    object \n",
      " 2   가격         227 non-null    float64\n",
      " 3   셀프         227 non-null    object \n",
      " 4   상표         227 non-null    object \n",
      " 5   lat        227 non-null    float64\n",
      " 6   lng        227 non-null    float64\n",
      " 7   구          227 non-null    object \n",
      "dtypes: float64(3), object(5)\n",
      "memory usage: 14.3+ KB\n"
     ]
    }
   ],
   "source": [
    "stations.info()"
   ]
  },
  {
   "cell_type": "markdown",
   "metadata": {},
   "source": [
    "4. matplotlib 를 활용해서 boxplot 3개 작성"
   ]
  },
  {
   "cell_type": "code",
   "execution_count": 193,
   "metadata": {},
   "outputs": [],
   "source": [
    "import matplotlib.pyplot as plt\n",
    "import seaborn as sns\n",
    "%matplotlib inline\n",
    "\n",
    "import platform\n",
    "\n",
    "path= \"c:/Windows/Fonts/malgun.ttf\"\n",
    "from matplotlib import font_manager, rc\n",
    "\n",
    "if platform.system() == 'Darwin':\n",
    "    rc('font', family='AppleGothic')\n",
    "elif platform.system() == 'Windows':\n",
    "    font_name = font_manager.FontProperties(fname=path).get_name()\n",
    "    rc('font', family=font_name)\n",
    "else:\n",
    "    print('Unknown system.. sorry~~~')"
   ]
  },
  {
   "cell_type": "code",
   "execution_count": 194,
   "metadata": {},
   "outputs": [
    {
     "data": {
      "text/plain": [
       "<AxesSubplot:title={'center':'가격'}, xlabel='셀프'>"
      ]
     },
     "execution_count": 194,
     "metadata": {},
     "output_type": "execute_result"
    },
    {
     "data": {
      "image/png": "[encoded data removed]",
      "text/plain": [
       "<Figure size 864x576 with 1 Axes>"
      ]
     },
     "metadata": {
      "needs_background": "light"
     },
     "output_type": "display_data"
    }
   ],
   "source": [
    "stations.boxplot(column='가격', by='셀프', figsize=(12,8))"
   ]
  },
  {
   "cell_type": "code",
   "execution_count": 195,
   "metadata": {},
   "outputs": [
    {
     "data": {
      "image/png": "[encoded data removed]",
      "text/plain": [
       "<Figure size 864x576 with 1 Axes>"
      ]
     },
     "metadata": {
      "needs_background": "light"
     },
     "output_type": "display_data"
    }
   ],
   "source": [
    "plt.figure(figsize=(12,8))\n",
    "sns.boxplot(x=\"상표\", y=\"가격\", hue=\"셀프\", data=stations, palette=\"Set3\")\n",
    "plt.show()"
   ]
  },
  {
   "cell_type": "code",
   "execution_count": 196,
   "metadata": {},
   "outputs": [
    {
     "data": {
      "image/png": "[encoded data removed]",
      "text/plain": [
       "<Figure size 864x576 with 1 Axes>"
      ]
     },
     "metadata": {
      "needs_background": "light"
     },
     "output_type": "display_data"
    }
   ],
   "source": [
    "plt.figure(figsize=(12,8))\n",
    "sns.boxplot(x=\"상표\", y=\"가격\", data=stations, palette=\"Set3\")\n",
    "sns.swarmplot(x=\"상표\", y=\"가격\", data=stations, color=\".6\")\n",
    "plt.show()"
   ]
  },
  {
   "cell_type": "markdown",
   "metadata": {},
   "source": [
    "5. stations 데이터프레임의 휘발류  가격을 기준으로 가격이 높은 top10 주유소와 낮은 bottom10 주유소 데이터프레임 생성"
   ]
  },
  {
   "cell_type": "code",
   "execution_count": 197,
   "metadata": {},
   "outputs": [],
   "source": [
    "import json\n",
    "import folium\n",
    "import googlemaps\n",
    "import warnings\n",
    "warnings.simplefilter(action=\"ignore\", category = FutureWarning)"
   ]
  },
  {
   "cell_type": "code",
   "execution_count": 198,
   "metadata": {},
   "outputs": [],
   "source": [
    "top10 = stations.sort_values(by='가격', ascending=False).head(10)"
   ]
  },
  {
   "cell_type": "code",
   "execution_count": 199,
   "metadata": {},
   "outputs": [
    {
     "data": {
      "text/html": [
       "<div>\n",
       "<style scoped>\n",
       "    .dataframe tbody tr th:only-of-type {\n",
       "        vertical-align: middle;\n",
       "    }\n",
       "\n",
       "    .dataframe tbody tr th {\n",
       "        vertical-align: top;\n",
       "    }\n",
       "\n",
       "    .dataframe thead th {\n",
       "        text-align: right;\n",
       "    }\n",
       "</style>\n",
       "<table border=\"1\" class=\"dataframe\">\n",
       "  <thead>\n",
       "    <tr style=\"text-align: right;\">\n",
       "      <th></th>\n",
       "      <th>Oil_store</th>\n",
       "      <th>주소</th>\n",
       "      <th>가격</th>\n",
       "      <th>셀프</th>\n",
       "      <th>상표</th>\n",
       "      <th>lat</th>\n",
       "      <th>lng</th>\n",
       "      <th>구</th>\n",
       "    </tr>\n",
       "  </thead>\n",
       "  <tbody>\n",
       "    <tr>\n",
       "      <th>226</th>\n",
       "      <td>한솔주유소</td>\n",
       "      <td>대전 대덕구 한밭대로 1036 (오정동)</td>\n",
       "      <td>1974.0</td>\n",
       "      <td>N</td>\n",
       "      <td>GS칼텍스</td>\n",
       "      <td>36.357987</td>\n",
       "      <td>127.413716</td>\n",
       "      <td>대덕구</td>\n",
       "    </tr>\n",
       "    <tr>\n",
       "      <th>130</th>\n",
       "      <td>계룡주유소</td>\n",
       "      <td>대전 유성구 현충원로 177</td>\n",
       "      <td>1889.0</td>\n",
       "      <td>N</td>\n",
       "      <td>S-OIL</td>\n",
       "      <td>36.360484</td>\n",
       "      <td>127.291032</td>\n",
       "      <td>유성구</td>\n",
       "    </tr>\n",
       "    <tr>\n",
       "      <th>225</th>\n",
       "      <td>맘모스주유소</td>\n",
       "      <td>대전 대덕구 동서대로 1756 (비래동)</td>\n",
       "      <td>1756.0</td>\n",
       "      <td>N</td>\n",
       "      <td>SK에너지</td>\n",
       "      <td>36.352336</td>\n",
       "      <td>127.443365</td>\n",
       "      <td>대덕구</td>\n",
       "    </tr>\n",
       "    <tr>\n",
       "      <th>167</th>\n",
       "      <td>영광주유소</td>\n",
       "      <td>대전 중구 문화로 95 (유천동)</td>\n",
       "      <td>1729.0</td>\n",
       "      <td>N</td>\n",
       "      <td>SK에너지</td>\n",
       "      <td>36.312219</td>\n",
       "      <td>127.396268</td>\n",
       "      <td>중구</td>\n",
       "    </tr>\n",
       "    <tr>\n",
       "      <th>73</th>\n",
       "      <td>삼정주유소</td>\n",
       "      <td>대전 서구 대덕대로 384 (만년동)</td>\n",
       "      <td>1658.0</td>\n",
       "      <td>Y</td>\n",
       "      <td>S-OIL</td>\n",
       "      <td>36.367091</td>\n",
       "      <td>127.380019</td>\n",
       "      <td>서구</td>\n",
       "    </tr>\n",
       "    <tr>\n",
       "      <th>224</th>\n",
       "      <td>대덕산업단지관리공단주유사업소</td>\n",
       "      <td>대전 대덕구 문평동로 2 (문평동)</td>\n",
       "      <td>1628.0</td>\n",
       "      <td>N</td>\n",
       "      <td>현대오일뱅크</td>\n",
       "      <td>36.445414</td>\n",
       "      <td>127.404310</td>\n",
       "      <td>대덕구</td>\n",
       "    </tr>\n",
       "    <tr>\n",
       "      <th>129</th>\n",
       "      <td>예성주유소</td>\n",
       "      <td>대전광역시 유성구  도안동로 488</td>\n",
       "      <td>1628.0</td>\n",
       "      <td>Y</td>\n",
       "      <td>SK에너지</td>\n",
       "      <td>36.340367</td>\n",
       "      <td>127.349237</td>\n",
       "      <td>유성구</td>\n",
       "    </tr>\n",
       "    <tr>\n",
       "      <th>72</th>\n",
       "      <td>타임셀프주유소</td>\n",
       "      <td>대전 서구 대덕대로 188 (둔산2동)</td>\n",
       "      <td>1625.0</td>\n",
       "      <td>Y</td>\n",
       "      <td>현대오일뱅크</td>\n",
       "      <td>36.349595</td>\n",
       "      <td>127.377986</td>\n",
       "      <td>서구</td>\n",
       "    </tr>\n",
       "    <tr>\n",
       "      <th>223</th>\n",
       "      <td>비전운수(주)산업단지주유소</td>\n",
       "      <td>대전 대덕구 산업단지로 107</td>\n",
       "      <td>1619.0</td>\n",
       "      <td>N</td>\n",
       "      <td>GS칼텍스</td>\n",
       "      <td>36.429782</td>\n",
       "      <td>127.409735</td>\n",
       "      <td>대덕구</td>\n",
       "    </tr>\n",
       "    <tr>\n",
       "      <th>71</th>\n",
       "      <td>SK에너지(주) 둔산주유소</td>\n",
       "      <td>대전 서구 둔산로 139</td>\n",
       "      <td>1618.0</td>\n",
       "      <td>N</td>\n",
       "      <td>SK에너지</td>\n",
       "      <td>36.351504</td>\n",
       "      <td>127.389524</td>\n",
       "      <td>서구</td>\n",
       "    </tr>\n",
       "  </tbody>\n",
       "</table>\n",
       "</div>"
      ],
      "text/plain": [
       "           Oil_store                      주소      가격 셀프      상표        lat  \\\n",
       "226            한솔주유소  대전 대덕구 한밭대로 1036 (오정동)  1974.0  N   GS칼텍스  36.357987   \n",
       "130            계룡주유소         대전 유성구 현충원로 177  1889.0  N   S-OIL  36.360484   \n",
       "225           맘모스주유소  대전 대덕구 동서대로 1756 (비래동)  1756.0  N   SK에너지  36.352336   \n",
       "167            영광주유소      대전 중구 문화로 95 (유천동)  1729.0  N   SK에너지  36.312219   \n",
       "73             삼정주유소    대전 서구 대덕대로 384 (만년동)  1658.0  Y   S-OIL  36.367091   \n",
       "224  대덕산업단지관리공단주유사업소     대전 대덕구 문평동로 2 (문평동)  1628.0  N  현대오일뱅크  36.445414   \n",
       "129            예성주유소     대전광역시 유성구  도안동로 488  1628.0  Y   SK에너지  36.340367   \n",
       "72           타임셀프주유소   대전 서구 대덕대로 188 (둔산2동)  1625.0  Y  현대오일뱅크  36.349595   \n",
       "223   비전운수(주)산업단지주유소        대전 대덕구 산업단지로 107  1619.0  N   GS칼텍스  36.429782   \n",
       "71    SK에너지(주) 둔산주유소           대전 서구 둔산로 139  1618.0  N   SK에너지  36.351504   \n",
       "\n",
       "            lng    구  \n",
       "226  127.413716  대덕구  \n",
       "130  127.291032  유성구  \n",
       "225  127.443365  대덕구  \n",
       "167  127.396268   중구  \n",
       "73   127.380019   서구  \n",
       "224  127.404310  대덕구  \n",
       "129  127.349237  유성구  \n",
       "72   127.377986   서구  \n",
       "223  127.409735  대덕구  \n",
       "71   127.389524   서구  "
      ]
     },
     "execution_count": 199,
     "metadata": {},
     "output_type": "execute_result"
    }
   ],
   "source": [
    "top10"
   ]
  },
  {
   "cell_type": "code",
   "execution_count": 200,
   "metadata": {},
   "outputs": [],
   "source": [
    "bottom10 = stations.sort_values(by='가격', ascending=True).head(10)"
   ]
  },
  {
   "cell_type": "code",
   "execution_count": 201,
   "metadata": {},
   "outputs": [
    {
     "data": {
      "text/html": [
       "<div>\n",
       "<style scoped>\n",
       "    .dataframe tbody tr th:only-of-type {\n",
       "        vertical-align: middle;\n",
       "    }\n",
       "\n",
       "    .dataframe tbody tr th {\n",
       "        vertical-align: top;\n",
       "    }\n",
       "\n",
       "    .dataframe thead th {\n",
       "        text-align: right;\n",
       "    }\n",
       "</style>\n",
       "<table border=\"1\" class=\"dataframe\">\n",
       "  <thead>\n",
       "    <tr style=\"text-align: right;\">\n",
       "      <th></th>\n",
       "      <th>Oil_store</th>\n",
       "      <th>주소</th>\n",
       "      <th>가격</th>\n",
       "      <th>셀프</th>\n",
       "      <th>상표</th>\n",
       "      <th>lat</th>\n",
       "      <th>lng</th>\n",
       "      <th>구</th>\n",
       "    </tr>\n",
       "  </thead>\n",
       "  <tbody>\n",
       "    <tr>\n",
       "      <th>168</th>\n",
       "      <td>신탄진(상)주유소/충전소</td>\n",
       "      <td>대전 대덕구 산업단지로 27</td>\n",
       "      <td>1504.0</td>\n",
       "      <td>Y</td>\n",
       "      <td>알뜰(ex)</td>\n",
       "      <td>36.428274</td>\n",
       "      <td>127.417996</td>\n",
       "      <td>대덕구</td>\n",
       "    </tr>\n",
       "    <tr>\n",
       "      <th>169</th>\n",
       "      <td>소태산주유소</td>\n",
       "      <td>대전 대덕구 신탄진로 163 (신대동)</td>\n",
       "      <td>1515.0</td>\n",
       "      <td>N</td>\n",
       "      <td>현대오일뱅크</td>\n",
       "      <td>36.395361</td>\n",
       "      <td>127.421720</td>\n",
       "      <td>대덕구</td>\n",
       "    </tr>\n",
       "    <tr>\n",
       "      <th>170</th>\n",
       "      <td>CJ대한통운㈜ 대전지사주유소</td>\n",
       "      <td>대전 대덕구 신탄진로 1 (읍내동)</td>\n",
       "      <td>1515.0</td>\n",
       "      <td>N</td>\n",
       "      <td>GS칼텍스</td>\n",
       "      <td>36.382769</td>\n",
       "      <td>127.424751</td>\n",
       "      <td>대덕구</td>\n",
       "    </tr>\n",
       "    <tr>\n",
       "      <th>172</th>\n",
       "      <td>일등주유소</td>\n",
       "      <td>대전 대덕구 신탄진로 636 (평촌동)</td>\n",
       "      <td>1524.0</td>\n",
       "      <td>N</td>\n",
       "      <td>자가상표</td>\n",
       "      <td>36.435017</td>\n",
       "      <td>127.425410</td>\n",
       "      <td>대덕구</td>\n",
       "    </tr>\n",
       "    <tr>\n",
       "      <th>171</th>\n",
       "      <td>신탄진알뜰주유소</td>\n",
       "      <td>대전 대덕구 대덕대로1527번길 374</td>\n",
       "      <td>1524.0</td>\n",
       "      <td>Y</td>\n",
       "      <td>알뜰주유소</td>\n",
       "      <td>36.453453</td>\n",
       "      <td>127.428377</td>\n",
       "      <td>대덕구</td>\n",
       "    </tr>\n",
       "    <tr>\n",
       "      <th>31</th>\n",
       "      <td>선진주유소</td>\n",
       "      <td>대전 서구 배재로 205</td>\n",
       "      <td>1525.0</td>\n",
       "      <td>N</td>\n",
       "      <td>현대오일뱅크</td>\n",
       "      <td>36.326877</td>\n",
       "      <td>127.370066</td>\n",
       "      <td>서구</td>\n",
       "    </tr>\n",
       "    <tr>\n",
       "      <th>173</th>\n",
       "      <td>신탄진농협주유소</td>\n",
       "      <td>대전 대덕구 덕암로 164</td>\n",
       "      <td>1525.0</td>\n",
       "      <td>Y</td>\n",
       "      <td>NH-OIL</td>\n",
       "      <td>36.435242</td>\n",
       "      <td>127.422511</td>\n",
       "      <td>대덕구</td>\n",
       "    </tr>\n",
       "    <tr>\n",
       "      <th>74</th>\n",
       "      <td>롯데마트 서대전점주유소</td>\n",
       "      <td>대전 유성구 유성대로 26-37 (원내동)</td>\n",
       "      <td>1525.0</td>\n",
       "      <td>Y</td>\n",
       "      <td>S-OIL</td>\n",
       "      <td>36.301699</td>\n",
       "      <td>127.323308</td>\n",
       "      <td>유성구</td>\n",
       "    </tr>\n",
       "    <tr>\n",
       "      <th>174</th>\n",
       "      <td>쌍용주유소</td>\n",
       "      <td>대전 대덕구 신탄진로 83 (연축동)</td>\n",
       "      <td>1525.0</td>\n",
       "      <td>Y</td>\n",
       "      <td>S-OIL</td>\n",
       "      <td>36.388194</td>\n",
       "      <td>127.421625</td>\n",
       "      <td>대덕구</td>\n",
       "    </tr>\n",
       "    <tr>\n",
       "      <th>34</th>\n",
       "      <td>(주)혜천셀프주유소</td>\n",
       "      <td>대전 서구 혜천로 28</td>\n",
       "      <td>1527.0</td>\n",
       "      <td>Y</td>\n",
       "      <td>GS칼텍스</td>\n",
       "      <td>36.306610</td>\n",
       "      <td>127.369742</td>\n",
       "      <td>서구</td>\n",
       "    </tr>\n",
       "  </tbody>\n",
       "</table>\n",
       "</div>"
      ],
      "text/plain": [
       "           Oil_store                       주소      가격 셀프      상표        lat  \\\n",
       "168    신탄진(상)주유소/충전소          대전 대덕구 산업단지로 27  1504.0  Y  알뜰(ex)  36.428274   \n",
       "169           소태산주유소    대전 대덕구 신탄진로 163 (신대동)  1515.0  N  현대오일뱅크  36.395361   \n",
       "170  CJ대한통운㈜ 대전지사주유소      대전 대덕구 신탄진로 1 (읍내동)  1515.0  N   GS칼텍스  36.382769   \n",
       "172            일등주유소    대전 대덕구 신탄진로 636 (평촌동)  1524.0  N    자가상표  36.435017   \n",
       "171         신탄진알뜰주유소    대전 대덕구 대덕대로1527번길 374  1524.0  Y   알뜰주유소  36.453453   \n",
       "31             선진주유소            대전 서구 배재로 205  1525.0  N  현대오일뱅크  36.326877   \n",
       "173         신탄진농협주유소           대전 대덕구 덕암로 164  1525.0  Y  NH-OIL  36.435242   \n",
       "74      롯데마트 서대전점주유소  대전 유성구 유성대로 26-37 (원내동)  1525.0  Y   S-OIL  36.301699   \n",
       "174            쌍용주유소     대전 대덕구 신탄진로 83 (연축동)  1525.0  Y   S-OIL  36.388194   \n",
       "34        (주)혜천셀프주유소             대전 서구 혜천로 28  1527.0  Y   GS칼텍스  36.306610   \n",
       "\n",
       "            lng    구  \n",
       "168  127.417996  대덕구  \n",
       "169  127.421720  대덕구  \n",
       "170  127.424751  대덕구  \n",
       "172  127.425410  대덕구  \n",
       "171  127.428377  대덕구  \n",
       "31   127.370066   서구  \n",
       "173  127.422511  대덕구  \n",
       "74   127.323308  유성구  \n",
       "174  127.421625  대덕구  \n",
       "34   127.369742   서구  "
      ]
     },
     "execution_count": 201,
     "metadata": {},
     "output_type": "execute_result"
    }
   ],
   "source": [
    "bottom10"
   ]
  },
  {
   "cell_type": "markdown",
   "metadata": {},
   "source": [
    "6. folium을 이용하여   top10 데이터프레임과 bottom10 데이터프레임의  위도 경도 정보로 대전 지도에 주유소 20곳을 표시. 대전 관련 지도 정보와 표시는 다음 코드로 대체하세요."
   ]
  },
  {
   "cell_type": "code",
   "execution_count": 202,
   "metadata": {},
   "outputs": [
    {
     "data": {
      "text/html": [
       "<div style=\"width:100%;\"><div style=\"position:relative;width:100%;height:0;padding-bottom:60%;\"><span style=\"color:#565656\">Make this Notebook Trusted to load map: File -> Trust Notebook</span><iframe src=\"about:blank\" style=\"position:absolute;width:100%;height:100%;left:0;top:0;border:none !important;\" data-html=%3C%21DOCTYPE%20html%3E%0A%3Chead%3E%20%20%20%20%0A%20%20%20%20%3Cmeta%20http-equiv%3D%22content-type%22%20content%3D%22text/html%3B%20charset%3DUTF-8%22%20/%3E%0A%20%20%20%20%0A%20%20%20%20%20%20%20%20%3Cscript%3E%0A%20%20%20%20%20%20%20%20%20%20%20%20L_NO_TOUCH%20%3D%20false%3B%0A%20%20%20%20%20%20%20%20%20%20%20%20L_DISABLE_3D%20%3D%20false%3B%0A%20%20%20%20%20%20%20%20%3C/script%3E%0A%20%20%20%20%0A%20%20%20%20%3Cstyle%3Ehtml%2C%20body%20%7Bwidth%3A%20100%25%3Bheight%3A%20100%25%3Bmargin%3A%200%3Bpadding%3A%200%3B%7D%3C/style%3E%0A%20%20%20%20%3Cstyle%3E%23map%20%7Bposition%3Aabsolute%3Btop%3A0%3Bbottom%3A0%3Bright%3A0%3Bleft%3A0%3B%7D%3C/style%3E%0A%20%20%20%20%3Cscript%20src%3D%22https%3A//cdn.jsdelivr.net/npm/leaflet%401.6.0/dist/leaflet.js%22%3E%3C/script%3E%0A%20%20%20%20%3Cscript%20src%3D%22https%3A//code.jquery.com/jquery-1.12.4.min.js%22%3E%3C/script%3E%0A%20%20%20%20%3Cscript%20src%3D%22https%3A//maxcdn.bootstrapcdn.com/bootstrap/3.2.0/js/bootstrap.min.js%22%3E%3C/script%3E%0A%20%20%20%20%3Cscript%20src%3D%22https%3A//cdnjs.cloudflare.com/ajax/libs/Leaflet.awesome-markers/2.0.2/leaflet.awesome-markers.js%22%3E%3C/script%3E%0A%20%20%20%20%3Clink%20rel%3D%22stylesheet%22%20href%3D%22https%3A//cdn.jsdelivr.net/npm/leaflet%401.6.0/dist/leaflet.css%22/%3E%0A%20%20%20%20%3Clink%20rel%3D%22stylesheet%22%20href%3D%22https%3A//maxcdn.bootstrapcdn.com/bootstrap/3.2.0/css/bootstrap.min.css%22/%3E%0A%20%20%20%20%3Clink%20rel%3D%22stylesheet%22%20href%3D%22https%3A//maxcdn.bootstrapcdn.com/bootstrap/3.2.0/css/bootstrap-theme.min.css%22/%3E%0A%20%20%20%20%3Clink%20rel%3D%22stylesheet%22%20href%3D%22https%3A//maxcdn.bootstrapcdn.com/font-awesome/4.6.3/css/font-awesome.min.css%22/%3E%0A%20%20%20%20%3Clink%20rel%3D%22stylesheet%22%20href%3D%22https%3A//cdnjs.cloudflare.com/ajax/libs/Leaflet.awesome-markers/2.0.2/leaflet.awesome-markers.css%22/%3E%0A%20%20%20%20%3Clink%20rel%3D%22stylesheet%22%20href%3D%22https%3A//cdn.jsdelivr.net/gh/python-visualization/folium/folium/templates/leaflet.awesome.rotate.min.css%22/%3E%0A%20%20%20%20%0A%20%20%20%20%20%20%20%20%20%20%20%20%3Cmeta%20name%3D%22viewport%22%20content%3D%22width%3Ddevice-width%2C%0A%20%20%20%20%20%20%20%20%20%20%20%20%20%20%20%20initial-scale%3D1.0%2C%20maximum-scale%3D1.0%2C%20user-scalable%3Dno%22%20/%3E%0A%20%20%20%20%20%20%20%20%20%20%20%20%3Cstyle%3E%0A%20%20%20%20%20%20%20%20%20%20%20%20%20%20%20%20%23map_93203635db38405981a023a344a185f1%20%7B%0A%20%20%20%20%20%20%20%20%20%20%20%20%20%20%20%20%20%20%20%20position%3A%20relative%3B%0A%20%20%20%20%20%20%20%20%20%20%20%20%20%20%20%20%20%20%20%20width%3A%20100.0%25%3B%0A%20%20%20%20%20%20%20%20%20%20%20%20%20%20%20%20%20%20%20%20height%3A%20100.0%25%3B%0A%20%20%20%20%20%20%20%20%20%20%20%20%20%20%20%20%20%20%20%20left%3A%200.0%25%3B%0A%20%20%20%20%20%20%20%20%20%20%20%20%20%20%20%20%20%20%20%20top%3A%200.0%25%3B%0A%20%20%20%20%20%20%20%20%20%20%20%20%20%20%20%20%7D%0A%20%20%20%20%20%20%20%20%20%20%20%20%3C/style%3E%0A%20%20%20%20%20%20%20%20%0A%3C/head%3E%0A%3Cbody%3E%20%20%20%20%0A%20%20%20%20%0A%20%20%20%20%20%20%20%20%20%20%20%20%3Cdiv%20class%3D%22folium-map%22%20id%3D%22map_93203635db38405981a023a344a185f1%22%20%3E%3C/div%3E%0A%20%20%20%20%20%20%20%20%0A%3C/body%3E%0A%3Cscript%3E%20%20%20%20%0A%20%20%20%20%0A%20%20%20%20%20%20%20%20%20%20%20%20var%20map_93203635db38405981a023a344a185f1%20%3D%20L.map%28%0A%20%20%20%20%20%20%20%20%20%20%20%20%20%20%20%20%22map_93203635db38405981a023a344a185f1%22%2C%0A%20%20%20%20%20%20%20%20%20%20%20%20%20%20%20%20%7B%0A%20%20%20%20%20%20%20%20%20%20%20%20%20%20%20%20%20%20%20%20center%3A%20%5B36.34%2C%20127.3935%5D%2C%0A%20%20%20%20%20%20%20%20%20%20%20%20%20%20%20%20%20%20%20%20crs%3A%20L.CRS.EPSG3857%2C%0A%20%20%20%20%20%20%20%20%20%20%20%20%20%20%20%20%20%20%20%20zoom%3A%2011%2C%0A%20%20%20%20%20%20%20%20%20%20%20%20%20%20%20%20%20%20%20%20zoomControl%3A%20true%2C%0A%20%20%20%20%20%20%20%20%20%20%20%20%20%20%20%20%20%20%20%20preferCanvas%3A%20false%2C%0A%20%20%20%20%20%20%20%20%20%20%20%20%20%20%20%20%20%20%20%20titles%3A%20%22Stamen%20Toner%22%2C%0A%20%20%20%20%20%20%20%20%20%20%20%20%20%20%20%20%7D%0A%20%20%20%20%20%20%20%20%20%20%20%20%29%3B%0A%0A%20%20%20%20%20%20%20%20%20%20%20%20%0A%0A%20%20%20%20%20%20%20%20%0A%20%20%20%20%0A%20%20%20%20%20%20%20%20%20%20%20%20var%20tile_layer_734caaf19bb64cbfb8581efd4d9e955a%20%3D%20L.tileLayer%28%0A%20%20%20%20%20%20%20%20%20%20%20%20%20%20%20%20%22https%3A//%7Bs%7D.tile.openstreetmap.org/%7Bz%7D/%7Bx%7D/%7By%7D.png%22%2C%0A%20%20%20%20%20%20%20%20%20%20%20%20%20%20%20%20%7B%22attribution%22%3A%20%22Data%20by%20%5Cu0026copy%3B%20%5Cu003ca%20href%3D%5C%22http%3A//openstreetmap.org%5C%22%5Cu003eOpenStreetMap%5Cu003c/a%5Cu003e%2C%20under%20%5Cu003ca%20href%3D%5C%22http%3A//www.openstreetmap.org/copyright%5C%22%5Cu003eODbL%5Cu003c/a%5Cu003e.%22%2C%20%22detectRetina%22%3A%20false%2C%20%22maxNativeZoom%22%3A%2018%2C%20%22maxZoom%22%3A%2018%2C%20%22minZoom%22%3A%200%2C%20%22noWrap%22%3A%20false%2C%20%22opacity%22%3A%201%2C%20%22subdomains%22%3A%20%22abc%22%2C%20%22tms%22%3A%20false%7D%0A%20%20%20%20%20%20%20%20%20%20%20%20%29.addTo%28map_93203635db38405981a023a344a185f1%29%3B%0A%20%20%20%20%20%20%20%20%0A%20%20%20%20%0A%20%20%20%20%20%20%20%20%20%20%20%20var%20circle_marker_e224f2b529444b22a55e69adcbc1acc6%20%3D%20L.circleMarker%28%0A%20%20%20%20%20%20%20%20%20%20%20%20%20%20%20%20%5B36.3579869%2C%20127.413716%5D%2C%0A%20%20%20%20%20%20%20%20%20%20%20%20%20%20%20%20%7B%22bubblingMouseEvents%22%3A%20true%2C%20%22color%22%3A%20%22%233388ff%22%2C%20%22dashArray%22%3A%20null%2C%20%22dashOffset%22%3A%20null%2C%20%22fill%22%3A%20true%2C%20%22fillColor%22%3A%20%22%23CD3181%22%2C%20%22fillOpacity%22%3A%200.2%2C%20%22fillRule%22%3A%20%22evenodd%22%2C%20%22lineCap%22%3A%20%22round%22%2C%20%22lineJoin%22%3A%20%22round%22%2C%20%22opacity%22%3A%201.0%2C%20%22radius%22%3A%2015%2C%20%22stroke%22%3A%20true%2C%20%22weight%22%3A%203%7D%0A%20%20%20%20%20%20%20%20%20%20%20%20%29.addTo%28map_93203635db38405981a023a344a185f1%29%3B%0A%20%20%20%20%20%20%20%20%0A%20%20%20%20%0A%20%20%20%20%20%20%20%20%20%20%20%20var%20circle_marker_cc9a86b54f024769bfb77a33cffdd9b4%20%3D%20L.circleMarker%28%0A%20%20%20%20%20%20%20%20%20%20%20%20%20%20%20%20%5B36.3604844%2C%20127.2910315%5D%2C%0A%20%20%20%20%20%20%20%20%20%20%20%20%20%20%20%20%7B%22bubblingMouseEvents%22%3A%20true%2C%20%22color%22%3A%20%22%233388ff%22%2C%20%22dashArray%22%3A%20null%2C%20%22dashOffset%22%3A%20null%2C%20%22fill%22%3A%20true%2C%20%22fillColor%22%3A%20%22%23CD3181%22%2C%20%22fillOpacity%22%3A%200.2%2C%20%22fillRule%22%3A%20%22evenodd%22%2C%20%22lineCap%22%3A%20%22round%22%2C%20%22lineJoin%22%3A%20%22round%22%2C%20%22opacity%22%3A%201.0%2C%20%22radius%22%3A%2015%2C%20%22stroke%22%3A%20true%2C%20%22weight%22%3A%203%7D%0A%20%20%20%20%20%20%20%20%20%20%20%20%29.addTo%28map_93203635db38405981a023a344a185f1%29%3B%0A%20%20%20%20%20%20%20%20%0A%20%20%20%20%0A%20%20%20%20%20%20%20%20%20%20%20%20var%20circle_marker_3127b874b64b46d28160d2696631cee8%20%3D%20L.circleMarker%28%0A%20%20%20%20%20%20%20%20%20%20%20%20%20%20%20%20%5B36.3523363%2C%20127.4433647%5D%2C%0A%20%20%20%20%20%20%20%20%20%20%20%20%20%20%20%20%7B%22bubblingMouseEvents%22%3A%20true%2C%20%22color%22%3A%20%22%233388ff%22%2C%20%22dashArray%22%3A%20null%2C%20%22dashOffset%22%3A%20null%2C%20%22fill%22%3A%20true%2C%20%22fillColor%22%3A%20%22%23CD3181%22%2C%20%22fillOpacity%22%3A%200.2%2C%20%22fillRule%22%3A%20%22evenodd%22%2C%20%22lineCap%22%3A%20%22round%22%2C%20%22lineJoin%22%3A%20%22round%22%2C%20%22opacity%22%3A%201.0%2C%20%22radius%22%3A%2015%2C%20%22stroke%22%3A%20true%2C%20%22weight%22%3A%203%7D%0A%20%20%20%20%20%20%20%20%20%20%20%20%29.addTo%28map_93203635db38405981a023a344a185f1%29%3B%0A%20%20%20%20%20%20%20%20%0A%20%20%20%20%0A%20%20%20%20%20%20%20%20%20%20%20%20var%20circle_marker_d1452a7d47f0417ead7d8b21de84eeb1%20%3D%20L.circleMarker%28%0A%20%20%20%20%20%20%20%20%20%20%20%20%20%20%20%20%5B36.3122185%2C%20127.3962683%5D%2C%0A%20%20%20%20%20%20%20%20%20%20%20%20%20%20%20%20%7B%22bubblingMouseEvents%22%3A%20true%2C%20%22color%22%3A%20%22%233388ff%22%2C%20%22dashArray%22%3A%20null%2C%20%22dashOffset%22%3A%20null%2C%20%22fill%22%3A%20true%2C%20%22fillColor%22%3A%20%22%23CD3181%22%2C%20%22fillOpacity%22%3A%200.2%2C%20%22fillRule%22%3A%20%22evenodd%22%2C%20%22lineCap%22%3A%20%22round%22%2C%20%22lineJoin%22%3A%20%22round%22%2C%20%22opacity%22%3A%201.0%2C%20%22radius%22%3A%2015%2C%20%22stroke%22%3A%20true%2C%20%22weight%22%3A%203%7D%0A%20%20%20%20%20%20%20%20%20%20%20%20%29.addTo%28map_93203635db38405981a023a344a185f1%29%3B%0A%20%20%20%20%20%20%20%20%0A%20%20%20%20%0A%20%20%20%20%20%20%20%20%20%20%20%20var%20circle_marker_0e20cf669ed246c7b4b2dac37a01a53d%20%3D%20L.circleMarker%28%0A%20%20%20%20%20%20%20%20%20%20%20%20%20%20%20%20%5B36.3670905%2C%20127.3800186%5D%2C%0A%20%20%20%20%20%20%20%20%20%20%20%20%20%20%20%20%7B%22bubblingMouseEvents%22%3A%20true%2C%20%22color%22%3A%20%22%233388ff%22%2C%20%22dashArray%22%3A%20null%2C%20%22dashOffset%22%3A%20null%2C%20%22fill%22%3A%20true%2C%20%22fillColor%22%3A%20%22%23CD3181%22%2C%20%22fillOpacity%22%3A%200.2%2C%20%22fillRule%22%3A%20%22evenodd%22%2C%20%22lineCap%22%3A%20%22round%22%2C%20%22lineJoin%22%3A%20%22round%22%2C%20%22opacity%22%3A%201.0%2C%20%22radius%22%3A%2015%2C%20%22stroke%22%3A%20true%2C%20%22weight%22%3A%203%7D%0A%20%20%20%20%20%20%20%20%20%20%20%20%29.addTo%28map_93203635db38405981a023a344a185f1%29%3B%0A%20%20%20%20%20%20%20%20%0A%20%20%20%20%0A%20%20%20%20%20%20%20%20%20%20%20%20var%20circle_marker_756b3aa5ecb04288beb4a3e7587acac9%20%3D%20L.circleMarker%28%0A%20%20%20%20%20%20%20%20%20%20%20%20%20%20%20%20%5B36.4454135%2C%20127.4043102%5D%2C%0A%20%20%20%20%20%20%20%20%20%20%20%20%20%20%20%20%7B%22bubblingMouseEvents%22%3A%20true%2C%20%22color%22%3A%20%22%233388ff%22%2C%20%22dashArray%22%3A%20null%2C%20%22dashOffset%22%3A%20null%2C%20%22fill%22%3A%20true%2C%20%22fillColor%22%3A%20%22%23CD3181%22%2C%20%22fillOpacity%22%3A%200.2%2C%20%22fillRule%22%3A%20%22evenodd%22%2C%20%22lineCap%22%3A%20%22round%22%2C%20%22lineJoin%22%3A%20%22round%22%2C%20%22opacity%22%3A%201.0%2C%20%22radius%22%3A%2015%2C%20%22stroke%22%3A%20true%2C%20%22weight%22%3A%203%7D%0A%20%20%20%20%20%20%20%20%20%20%20%20%29.addTo%28map_93203635db38405981a023a344a185f1%29%3B%0A%20%20%20%20%20%20%20%20%0A%20%20%20%20%0A%20%20%20%20%20%20%20%20%20%20%20%20var%20circle_marker_bd08b3b0a75e42f189045babf557cdde%20%3D%20L.circleMarker%28%0A%20%20%20%20%20%20%20%20%20%20%20%20%20%20%20%20%5B36.3403673%2C%20127.3492365%5D%2C%0A%20%20%20%20%20%20%20%20%20%20%20%20%20%20%20%20%7B%22bubblingMouseEvents%22%3A%20true%2C%20%22color%22%3A%20%22%233388ff%22%2C%20%22dashArray%22%3A%20null%2C%20%22dashOffset%22%3A%20null%2C%20%22fill%22%3A%20true%2C%20%22fillColor%22%3A%20%22%23CD3181%22%2C%20%22fillOpacity%22%3A%200.2%2C%20%22fillRule%22%3A%20%22evenodd%22%2C%20%22lineCap%22%3A%20%22round%22%2C%20%22lineJoin%22%3A%20%22round%22%2C%20%22opacity%22%3A%201.0%2C%20%22radius%22%3A%2015%2C%20%22stroke%22%3A%20true%2C%20%22weight%22%3A%203%7D%0A%20%20%20%20%20%20%20%20%20%20%20%20%29.addTo%28map_93203635db38405981a023a344a185f1%29%3B%0A%20%20%20%20%20%20%20%20%0A%20%20%20%20%0A%20%20%20%20%20%20%20%20%20%20%20%20var%20circle_marker_2a27628f2e8a4dbda88d894d97d6595a%20%3D%20L.circleMarker%28%0A%20%20%20%20%20%20%20%20%20%20%20%20%20%20%20%20%5B36.349595%2C%20127.3779859%5D%2C%0A%20%20%20%20%20%20%20%20%20%20%20%20%20%20%20%20%7B%22bubblingMouseEvents%22%3A%20true%2C%20%22color%22%3A%20%22%233388ff%22%2C%20%22dashArray%22%3A%20null%2C%20%22dashOffset%22%3A%20null%2C%20%22fill%22%3A%20true%2C%20%22fillColor%22%3A%20%22%23CD3181%22%2C%20%22fillOpacity%22%3A%200.2%2C%20%22fillRule%22%3A%20%22evenodd%22%2C%20%22lineCap%22%3A%20%22round%22%2C%20%22lineJoin%22%3A%20%22round%22%2C%20%22opacity%22%3A%201.0%2C%20%22radius%22%3A%2015%2C%20%22stroke%22%3A%20true%2C%20%22weight%22%3A%203%7D%0A%20%20%20%20%20%20%20%20%20%20%20%20%29.addTo%28map_93203635db38405981a023a344a185f1%29%3B%0A%20%20%20%20%20%20%20%20%0A%20%20%20%20%0A%20%20%20%20%20%20%20%20%20%20%20%20var%20circle_marker_0cbcba80f2434955be05b555b8d6d65f%20%3D%20L.circleMarker%28%0A%20%20%20%20%20%20%20%20%20%20%20%20%20%20%20%20%5B36.4297824%2C%20127.4097349%5D%2C%0A%20%20%20%20%20%20%20%20%20%20%20%20%20%20%20%20%7B%22bubblingMouseEvents%22%3A%20true%2C%20%22color%22%3A%20%22%233388ff%22%2C%20%22dashArray%22%3A%20null%2C%20%22dashOffset%22%3A%20null%2C%20%22fill%22%3A%20true%2C%20%22fillColor%22%3A%20%22%23CD3181%22%2C%20%22fillOpacity%22%3A%200.2%2C%20%22fillRule%22%3A%20%22evenodd%22%2C%20%22lineCap%22%3A%20%22round%22%2C%20%22lineJoin%22%3A%20%22round%22%2C%20%22opacity%22%3A%201.0%2C%20%22radius%22%3A%2015%2C%20%22stroke%22%3A%20true%2C%20%22weight%22%3A%203%7D%0A%20%20%20%20%20%20%20%20%20%20%20%20%29.addTo%28map_93203635db38405981a023a344a185f1%29%3B%0A%20%20%20%20%20%20%20%20%0A%20%20%20%20%0A%20%20%20%20%20%20%20%20%20%20%20%20var%20circle_marker_bdb8df4a2b6342f0837fff20d4786f68%20%3D%20L.circleMarker%28%0A%20%20%20%20%20%20%20%20%20%20%20%20%20%20%20%20%5B36.3515038%2C%20127.3895243%5D%2C%0A%20%20%20%20%20%20%20%20%20%20%20%20%20%20%20%20%7B%22bubblingMouseEvents%22%3A%20true%2C%20%22color%22%3A%20%22%233388ff%22%2C%20%22dashArray%22%3A%20null%2C%20%22dashOffset%22%3A%20null%2C%20%22fill%22%3A%20true%2C%20%22fillColor%22%3A%20%22%23CD3181%22%2C%20%22fillOpacity%22%3A%200.2%2C%20%22fillRule%22%3A%20%22evenodd%22%2C%20%22lineCap%22%3A%20%22round%22%2C%20%22lineJoin%22%3A%20%22round%22%2C%20%22opacity%22%3A%201.0%2C%20%22radius%22%3A%2015%2C%20%22stroke%22%3A%20true%2C%20%22weight%22%3A%203%7D%0A%20%20%20%20%20%20%20%20%20%20%20%20%29.addTo%28map_93203635db38405981a023a344a185f1%29%3B%0A%20%20%20%20%20%20%20%20%0A%20%20%20%20%0A%20%20%20%20%20%20%20%20%20%20%20%20var%20circle_marker_de09401bf6b6495f92bd51380a8304c9%20%3D%20L.circleMarker%28%0A%20%20%20%20%20%20%20%20%20%20%20%20%20%20%20%20%5B36.4282738%2C%20127.4179957%5D%2C%0A%20%20%20%20%20%20%20%20%20%20%20%20%20%20%20%20%7B%22bubblingMouseEvents%22%3A%20true%2C%20%22color%22%3A%20%22%233388ff%22%2C%20%22dashArray%22%3A%20null%2C%20%22dashOffset%22%3A%20null%2C%20%22fill%22%3A%20true%2C%20%22fillColor%22%3A%20%22%233186cc%22%2C%20%22fillOpacity%22%3A%200.2%2C%20%22fillRule%22%3A%20%22evenodd%22%2C%20%22lineCap%22%3A%20%22round%22%2C%20%22lineJoin%22%3A%20%22round%22%2C%20%22opacity%22%3A%201.0%2C%20%22radius%22%3A%2015%2C%20%22stroke%22%3A%20true%2C%20%22weight%22%3A%203%7D%0A%20%20%20%20%20%20%20%20%20%20%20%20%29.addTo%28map_93203635db38405981a023a344a185f1%29%3B%0A%20%20%20%20%20%20%20%20%0A%20%20%20%20%0A%20%20%20%20%20%20%20%20%20%20%20%20var%20circle_marker_06eb4c5a975e4fecad350d06e500a63d%20%3D%20L.circleMarker%28%0A%20%20%20%20%20%20%20%20%20%20%20%20%20%20%20%20%5B36.3953607%2C%20127.4217204%5D%2C%0A%20%20%20%20%20%20%20%20%20%20%20%20%20%20%20%20%7B%22bubblingMouseEvents%22%3A%20true%2C%20%22color%22%3A%20%22%233388ff%22%2C%20%22dashArray%22%3A%20null%2C%20%22dashOffset%22%3A%20null%2C%20%22fill%22%3A%20true%2C%20%22fillColor%22%3A%20%22%233186cc%22%2C%20%22fillOpacity%22%3A%200.2%2C%20%22fillRule%22%3A%20%22evenodd%22%2C%20%22lineCap%22%3A%20%22round%22%2C%20%22lineJoin%22%3A%20%22round%22%2C%20%22opacity%22%3A%201.0%2C%20%22radius%22%3A%2015%2C%20%22stroke%22%3A%20true%2C%20%22weight%22%3A%203%7D%0A%20%20%20%20%20%20%20%20%20%20%20%20%29.addTo%28map_93203635db38405981a023a344a185f1%29%3B%0A%20%20%20%20%20%20%20%20%0A%20%20%20%20%0A%20%20%20%20%20%20%20%20%20%20%20%20var%20circle_marker_11633ac254144acabff873055a4bbac7%20%3D%20L.circleMarker%28%0A%20%20%20%20%20%20%20%20%20%20%20%20%20%20%20%20%5B36.3827688%2C%20127.4247506%5D%2C%0A%20%20%20%20%20%20%20%20%20%20%20%20%20%20%20%20%7B%22bubblingMouseEvents%22%3A%20true%2C%20%22color%22%3A%20%22%233388ff%22%2C%20%22dashArray%22%3A%20null%2C%20%22dashOffset%22%3A%20null%2C%20%22fill%22%3A%20true%2C%20%22fillColor%22%3A%20%22%233186cc%22%2C%20%22fillOpacity%22%3A%200.2%2C%20%22fillRule%22%3A%20%22evenodd%22%2C%20%22lineCap%22%3A%20%22round%22%2C%20%22lineJoin%22%3A%20%22round%22%2C%20%22opacity%22%3A%201.0%2C%20%22radius%22%3A%2015%2C%20%22stroke%22%3A%20true%2C%20%22weight%22%3A%203%7D%0A%20%20%20%20%20%20%20%20%20%20%20%20%29.addTo%28map_93203635db38405981a023a344a185f1%29%3B%0A%20%20%20%20%20%20%20%20%0A%20%20%20%20%0A%20%20%20%20%20%20%20%20%20%20%20%20var%20circle_marker_1418ac16c1d547d5812b7b56ccb3bf88%20%3D%20L.circleMarker%28%0A%20%20%20%20%20%20%20%20%20%20%20%20%20%20%20%20%5B36.4350166%2C%20127.4254103%5D%2C%0A%20%20%20%20%20%20%20%20%20%20%20%20%20%20%20%20%7B%22bubblingMouseEvents%22%3A%20true%2C%20%22color%22%3A%20%22%233388ff%22%2C%20%22dashArray%22%3A%20null%2C%20%22dashOffset%22%3A%20null%2C%20%22fill%22%3A%20true%2C%20%22fillColor%22%3A%20%22%233186cc%22%2C%20%22fillOpacity%22%3A%200.2%2C%20%22fillRule%22%3A%20%22evenodd%22%2C%20%22lineCap%22%3A%20%22round%22%2C%20%22lineJoin%22%3A%20%22round%22%2C%20%22opacity%22%3A%201.0%2C%20%22radius%22%3A%2015%2C%20%22stroke%22%3A%20true%2C%20%22weight%22%3A%203%7D%0A%20%20%20%20%20%20%20%20%20%20%20%20%29.addTo%28map_93203635db38405981a023a344a185f1%29%3B%0A%20%20%20%20%20%20%20%20%0A%20%20%20%20%0A%20%20%20%20%20%20%20%20%20%20%20%20var%20circle_marker_65e92c7139c245439a904c206b20bfa9%20%3D%20L.circleMarker%28%0A%20%20%20%20%20%20%20%20%20%20%20%20%20%20%20%20%5B36.453453%2C%20127.4283768%5D%2C%0A%20%20%20%20%20%20%20%20%20%20%20%20%20%20%20%20%7B%22bubblingMouseEvents%22%3A%20true%2C%20%22color%22%3A%20%22%233388ff%22%2C%20%22dashArray%22%3A%20null%2C%20%22dashOffset%22%3A%20null%2C%20%22fill%22%3A%20true%2C%20%22fillColor%22%3A%20%22%233186cc%22%2C%20%22fillOpacity%22%3A%200.2%2C%20%22fillRule%22%3A%20%22evenodd%22%2C%20%22lineCap%22%3A%20%22round%22%2C%20%22lineJoin%22%3A%20%22round%22%2C%20%22opacity%22%3A%201.0%2C%20%22radius%22%3A%2015%2C%20%22stroke%22%3A%20true%2C%20%22weight%22%3A%203%7D%0A%20%20%20%20%20%20%20%20%20%20%20%20%29.addTo%28map_93203635db38405981a023a344a185f1%29%3B%0A%20%20%20%20%20%20%20%20%0A%20%20%20%20%0A%20%20%20%20%20%20%20%20%20%20%20%20var%20circle_marker_1a225adc2e7c484f9444aebb128b5124%20%3D%20L.circleMarker%28%0A%20%20%20%20%20%20%20%20%20%20%20%20%20%20%20%20%5B36.32687730000001%2C%20127.370066%5D%2C%0A%20%20%20%20%20%20%20%20%20%20%20%20%20%20%20%20%7B%22bubblingMouseEvents%22%3A%20true%2C%20%22color%22%3A%20%22%233388ff%22%2C%20%22dashArray%22%3A%20null%2C%20%22dashOffset%22%3A%20null%2C%20%22fill%22%3A%20true%2C%20%22fillColor%22%3A%20%22%233186cc%22%2C%20%22fillOpacity%22%3A%200.2%2C%20%22fillRule%22%3A%20%22evenodd%22%2C%20%22lineCap%22%3A%20%22round%22%2C%20%22lineJoin%22%3A%20%22round%22%2C%20%22opacity%22%3A%201.0%2C%20%22radius%22%3A%2015%2C%20%22stroke%22%3A%20true%2C%20%22weight%22%3A%203%7D%0A%20%20%20%20%20%20%20%20%20%20%20%20%29.addTo%28map_93203635db38405981a023a344a185f1%29%3B%0A%20%20%20%20%20%20%20%20%0A%20%20%20%20%0A%20%20%20%20%20%20%20%20%20%20%20%20var%20circle_marker_d80d8f762efd48c3aef0853a227df5f6%20%3D%20L.circleMarker%28%0A%20%20%20%20%20%20%20%20%20%20%20%20%20%20%20%20%5B36.4352424%2C%20127.422511%5D%2C%0A%20%20%20%20%20%20%20%20%20%20%20%20%20%20%20%20%7B%22bubblingMouseEvents%22%3A%20true%2C%20%22color%22%3A%20%22%233388ff%22%2C%20%22dashArray%22%3A%20null%2C%20%22dashOffset%22%3A%20null%2C%20%22fill%22%3A%20true%2C%20%22fillColor%22%3A%20%22%233186cc%22%2C%20%22fillOpacity%22%3A%200.2%2C%20%22fillRule%22%3A%20%22evenodd%22%2C%20%22lineCap%22%3A%20%22round%22%2C%20%22lineJoin%22%3A%20%22round%22%2C%20%22opacity%22%3A%201.0%2C%20%22radius%22%3A%2015%2C%20%22stroke%22%3A%20true%2C%20%22weight%22%3A%203%7D%0A%20%20%20%20%20%20%20%20%20%20%20%20%29.addTo%28map_93203635db38405981a023a344a185f1%29%3B%0A%20%20%20%20%20%20%20%20%0A%20%20%20%20%0A%20%20%20%20%20%20%20%20%20%20%20%20var%20circle_marker_5e4fc3b884eb4cb3afffc19882681946%20%3D%20L.circleMarker%28%0A%20%20%20%20%20%20%20%20%20%20%20%20%20%20%20%20%5B36.3016987%2C%20127.3233076%5D%2C%0A%20%20%20%20%20%20%20%20%20%20%20%20%20%20%20%20%7B%22bubblingMouseEvents%22%3A%20true%2C%20%22color%22%3A%20%22%233388ff%22%2C%20%22dashArray%22%3A%20null%2C%20%22dashOffset%22%3A%20null%2C%20%22fill%22%3A%20true%2C%20%22fillColor%22%3A%20%22%233186cc%22%2C%20%22fillOpacity%22%3A%200.2%2C%20%22fillRule%22%3A%20%22evenodd%22%2C%20%22lineCap%22%3A%20%22round%22%2C%20%22lineJoin%22%3A%20%22round%22%2C%20%22opacity%22%3A%201.0%2C%20%22radius%22%3A%2015%2C%20%22stroke%22%3A%20true%2C%20%22weight%22%3A%203%7D%0A%20%20%20%20%20%20%20%20%20%20%20%20%29.addTo%28map_93203635db38405981a023a344a185f1%29%3B%0A%20%20%20%20%20%20%20%20%0A%20%20%20%20%0A%20%20%20%20%20%20%20%20%20%20%20%20var%20circle_marker_4dacc3c573304b06b773c61c23b24e50%20%3D%20L.circleMarker%28%0A%20%20%20%20%20%20%20%20%20%20%20%20%20%20%20%20%5B36.3881936%2C%20127.4216252%5D%2C%0A%20%20%20%20%20%20%20%20%20%20%20%20%20%20%20%20%7B%22bubblingMouseEvents%22%3A%20true%2C%20%22color%22%3A%20%22%233388ff%22%2C%20%22dashArray%22%3A%20null%2C%20%22dashOffset%22%3A%20null%2C%20%22fill%22%3A%20true%2C%20%22fillColor%22%3A%20%22%233186cc%22%2C%20%22fillOpacity%22%3A%200.2%2C%20%22fillRule%22%3A%20%22evenodd%22%2C%20%22lineCap%22%3A%20%22round%22%2C%20%22lineJoin%22%3A%20%22round%22%2C%20%22opacity%22%3A%201.0%2C%20%22radius%22%3A%2015%2C%20%22stroke%22%3A%20true%2C%20%22weight%22%3A%203%7D%0A%20%20%20%20%20%20%20%20%20%20%20%20%29.addTo%28map_93203635db38405981a023a344a185f1%29%3B%0A%20%20%20%20%20%20%20%20%0A%20%20%20%20%0A%20%20%20%20%20%20%20%20%20%20%20%20var%20circle_marker_b1a47e06e5ba4a33abc6e48d9fab2e47%20%3D%20L.circleMarker%28%0A%20%20%20%20%20%20%20%20%20%20%20%20%20%20%20%20%5B36.3066101%2C%20127.3697424%5D%2C%0A%20%20%20%20%20%20%20%20%20%20%20%20%20%20%20%20%7B%22bubblingMouseEvents%22%3A%20true%2C%20%22color%22%3A%20%22%233388ff%22%2C%20%22dashArray%22%3A%20null%2C%20%22dashOffset%22%3A%20null%2C%20%22fill%22%3A%20true%2C%20%22fillColor%22%3A%20%22%233186cc%22%2C%20%22fillOpacity%22%3A%200.2%2C%20%22fillRule%22%3A%20%22evenodd%22%2C%20%22lineCap%22%3A%20%22round%22%2C%20%22lineJoin%22%3A%20%22round%22%2C%20%22opacity%22%3A%201.0%2C%20%22radius%22%3A%2015%2C%20%22stroke%22%3A%20true%2C%20%22weight%22%3A%203%7D%0A%20%20%20%20%20%20%20%20%20%20%20%20%29.addTo%28map_93203635db38405981a023a344a185f1%29%3B%0A%20%20%20%20%20%20%20%20%0A%3C/script%3E onload=\"this.contentDocument.open();this.contentDocument.write(    decodeURIComponent(this.getAttribute('data-html')));this.contentDocument.close();\" allowfullscreen webkitallowfullscreen mozallowfullscreen></iframe></div></div>"
      ],
      "text/plain": [
       "<folium.folium.Map at 0x2296ea52850>"
      ]
     },
     "execution_count": 202,
     "metadata": {},
     "output_type": "execute_result"
    }
   ],
   "source": [
    "map = folium.Map(location=[36.340, 127.3935], zoom_start=11, titles='Stamen Toner')\n",
    "                 \n",
    "for n in top10.index:\n",
    "    if pd.notnull(top10['lat'][n]):\n",
    "        folium.CircleMarker([top10['lat'][n], \n",
    "                             top10['lng'][n]],\n",
    "                           radius=15, colors='#CD3181',\n",
    "                           fill_color='#CD3181').add_to(map)\n",
    "\n",
    "        \n",
    "for n in bottom10.index:\n",
    "    if pd.notnull(bottom10['lat'][n]):\n",
    "        folium.CircleMarker([bottom10['lat'][n], \n",
    "                             bottom10['lng'][n]],\n",
    "                           radius=15, colors='#3186cc',\n",
    "                           fill_color='#3186cc').add_to(map)\n",
    "\n",
    "map"
   ]
  },
  {
   "cell_type": "markdown",
   "metadata": {},
   "source": [
    "7. 마지막으로 다음 질문과 이에 대한 답을 jupyter notebook의 코드로 계산하세요."
   ]
  },
  {
   "cell_type": "markdown",
   "metadata": {},
   "source": [
    " 7.1. top10 주유소 평균가격과 bottom10 주유소 평균가격의 차이"
   ]
  },
  {
   "cell_type": "code",
   "execution_count": 203,
   "metadata": {},
   "outputs": [
    {
     "data": {
      "text/plain": [
       "191.5"
      ]
     },
     "execution_count": 203,
     "metadata": {},
     "output_type": "execute_result"
    }
   ],
   "source": [
    "top10['가격'].mean()-bottom10['가격'].mean()"
   ]
  },
  {
   "cell_type": "markdown",
   "metadata": {},
   "source": [
    "  7.2. 대전 구별 전체 주유소 평균가격"
   ]
  },
  {
   "cell_type": "code",
   "execution_count": 204,
   "metadata": {},
   "outputs": [
    {
     "data": {
      "text/html": [
       "<div>\n",
       "<style scoped>\n",
       "    .dataframe tbody tr th:only-of-type {\n",
       "        vertical-align: middle;\n",
       "    }\n",
       "\n",
       "    .dataframe tbody tr th {\n",
       "        vertical-align: top;\n",
       "    }\n",
       "\n",
       "    .dataframe thead th {\n",
       "        text-align: right;\n",
       "    }\n",
       "</style>\n",
       "<table border=\"1\" class=\"dataframe\">\n",
       "  <thead>\n",
       "    <tr style=\"text-align: right;\">\n",
       "      <th></th>\n",
       "      <th>가격</th>\n",
       "    </tr>\n",
       "    <tr>\n",
       "      <th>구</th>\n",
       "      <th></th>\n",
       "    </tr>\n",
       "  </thead>\n",
       "  <tbody>\n",
       "    <tr>\n",
       "      <th>대덕구</th>\n",
       "      <td>1568.898305</td>\n",
       "    </tr>\n",
       "    <tr>\n",
       "      <th>동구</th>\n",
       "      <td>1556.096774</td>\n",
       "    </tr>\n",
       "    <tr>\n",
       "      <th>서구</th>\n",
       "      <td>1562.441860</td>\n",
       "    </tr>\n",
       "    <tr>\n",
       "      <th>유성구</th>\n",
       "      <td>1573.824561</td>\n",
       "    </tr>\n",
       "    <tr>\n",
       "      <th>중구</th>\n",
       "      <td>1552.108108</td>\n",
       "    </tr>\n",
       "  </tbody>\n",
       "</table>\n",
       "</div>"
      ],
      "text/plain": [
       "              가격\n",
       "구               \n",
       "대덕구  1568.898305\n",
       "동구   1556.096774\n",
       "서구   1562.441860\n",
       "유성구  1573.824561\n",
       "중구   1552.108108"
      ]
     },
     "execution_count": 204,
     "metadata": {},
     "output_type": "execute_result"
    }
   ],
   "source": [
    "import numpy as np\n",
    "gu_data=pd.pivot_table(stations, index=[\"구\"], values=[\"가격\"],\n",
    "                       aggfunc=np.mean)\n",
    "gu_data.head()"
   ]
  }
 ],
 "metadata": {
  "kernelspec": {
   "display_name": "Python 3",
   "language": "python",
   "name": "python3"
  },
  "language_info": {
   "codemirror_mode": {
    "name": "ipython",
    "version": 3
   },
   "file_extension": ".py",
   "mimetype": "text/x-python",
   "name": "python",
   "nbconvert_exporter": "python",
   "pygments_lexer": "ipython3",
   "version": "3.8.5"
  }
 },
 "nbformat": 4,
 "nbformat_minor": 4
}
